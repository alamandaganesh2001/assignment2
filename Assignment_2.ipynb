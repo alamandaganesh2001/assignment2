{
  "nbformat": 4,
  "nbformat_minor": 0,
  "metadata": {
    "colab": {
      "name": "Assignment 2.ipynb",
      "provenance": []
    },
    "kernelspec": {
      "name": "python3",
      "display_name": "Python 3"
    },
    "language_info": {
      "name": "python"
    }
  },
  "cells": [
    {
      "cell_type": "code",
      "metadata": {
        "colab": {
          "base_uri": "https://localhost:8080/"
        },
        "id": "HSKCy6Vyvrt6",
        "outputId": "7d466e6d-a23f-4c51-be2f-1a2b5854f2db"
      },
      "source": [
        "import random\n",
        "Lis=[]\n",
        "n= int(input('enter participants number'))\n",
        "for i in range(n):\n",
        "    y = input('enter the name')\n",
        "    Lis.append(y)\n",
        "x = random.randint(0,n-1)\n",
        "print(Lis[x])"
      ],
      "execution_count": null,
      "outputs": [
        {
          "output_type": "stream",
          "text": [
            "enter participants number5\n",
            "enter the nameGanesh\n",
            "enter the nameRamesh\n",
            "enter the nameMahesh\n",
            "enter the nameSuresh\n",
            "enter the nameHarish\n",
            "Ramesh\n"
          ],
          "name": "stdout"
        }
      ]
    }
  ]
}